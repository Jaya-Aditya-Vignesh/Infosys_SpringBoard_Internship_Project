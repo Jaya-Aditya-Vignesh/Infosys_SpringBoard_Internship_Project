{
 "cells": [
  {
   "cell_type": "code",
   "execution_count": 14,
   "id": "a4bcc7ec-4696-4014-a880-27f555f445e9",
   "metadata": {},
   "outputs": [
    {
     "name": "stderr",
     "output_type": "stream",
     "text": [
      "[nltk_data] Downloading package punkt to\n",
      "[nltk_data]     C:\\Users\\ADITYA\\AppData\\Roaming\\nltk_data...\n",
      "[nltk_data]   Unzipping tokenizers\\punkt.zip.\n"
     ]
    },
    {
     "data": {
      "text/plain": [
       "True"
      ]
     },
     "execution_count": 14,
     "metadata": {},
     "output_type": "execute_result"
    }
   ],
   "source": [
    "import spacy\n",
    "import nltk\n",
    "nltk.download('punkt')"
   ]
  },
  {
   "cell_type": "code",
   "execution_count": 37,
   "id": "62591fae-9851-4603-b24f-f5e49b2e8f6f",
   "metadata": {},
   "outputs": [
    {
     "name": "stderr",
     "output_type": "stream",
     "text": [
      "[nltk_data] Downloading package stopwords to\n",
      "[nltk_data]     C:\\Users\\ADITYA\\AppData\\Roaming\\nltk_data...\n",
      "[nltk_data]   Package stopwords is already up-to-date!\n",
      "[nltk_data] Downloading package wordnet to\n",
      "[nltk_data]     C:\\Users\\ADITYA\\AppData\\Roaming\\nltk_data...\n"
     ]
    },
    {
     "data": {
      "text/plain": [
       "True"
      ]
     },
     "execution_count": 37,
     "metadata": {},
     "output_type": "execute_result"
    }
   ],
   "source": [
    "from nltk.stem.porter import *\n",
    "from nltk.stem import *\n",
    "import re\n",
    "from nltk.corpus import stopwords\n",
    "nltk.download('stopwords')\n",
    "nltk.download('wordnet')"
   ]
  },
  {
   "cell_type": "code",
   "execution_count": 54,
   "id": "5843287d-7f70-44b7-9503-4469cd05918b",
   "metadata": {},
   "outputs": [],
   "source": [
    "from sklearn.feature_extraction.text import TfidfVectorizer\n",
    "from sklearn.linear_model import LogisticRegression "
   ]
  },
  {
   "cell_type": "code",
   "execution_count": 42,
   "id": "c085be03-f768-4d65-b882-520e0f2597ac",
   "metadata": {},
   "outputs": [
    {
     "data": {
      "text/plain": [
       "['ARLSTem',\n",
       " 'ARLSTem2',\n",
       " 'Cistem',\n",
       " 'ISRIStemmer',\n",
       " 'LancasterStemmer',\n",
       " 'PorterStemmer',\n",
       " 'RSLPStemmer',\n",
       " 'RegexpStemmer',\n",
       " 'SnowballStemmer',\n",
       " 'StemmerI',\n",
       " 'WordNetLemmatizer',\n",
       " '__builtins__',\n",
       " '__cached__',\n",
       " '__doc__',\n",
       " '__file__',\n",
       " '__loader__',\n",
       " '__name__',\n",
       " '__package__',\n",
       " '__path__',\n",
       " '__spec__',\n",
       " 'api',\n",
       " 'arlstem',\n",
       " 'arlstem2',\n",
       " 'cistem',\n",
       " 'isri',\n",
       " 'lancaster',\n",
       " 'porter',\n",
       " 'regexp',\n",
       " 'rslp',\n",
       " 'snowball',\n",
       " 'util',\n",
       " 'wordnet']"
      ]
     },
     "execution_count": 42,
     "metadata": {},
     "output_type": "execute_result"
    }
   ],
   "source": [
    "dir(nltk.stem)"
   ]
  },
  {
   "cell_type": "code",
   "execution_count": 2,
   "id": "77cc8656-3e28-4cb1-b17b-2ebbadd80ba3",
   "metadata": {},
   "outputs": [],
   "source": [
    "text=\"I have three visions for India. In 3000 years of our history, people from all over the world have come and invaded us, captured our lands, conquered our minds.From Alexander onwards, the Greeks, the Turks, the Moguls, the Portuguese, the British,the French, the Dutch, all of them came and looted us, took over what was ours.Yet we have not done this to any other nation. We have not conquered anyone.We have not grabbed thier land,their history and tried to enforce our way of life on thes, Why? Because we respect the freedom of others. That is why my First vision is that of freedom. I believe that India got its first vision of this in 1857, when we started the war of Independence. It Is this freedom that we must protect and nurture and build on. If we are not free, no one will respect us. My second vision for India's development. For fifty years we have been a developing nation. It is tise se see surselves as a developed nation, se are among the top 5 nations of the world In tares of CDP, We have a SR percant growth rata in sost areas. Our poverty levels are are falling Our achievements are being globally recognised today. Yet we lack the self-confidence to see ourselves as a developed nation, self-reliant and self-assured. Isn't this incorrecti I have a third vision. India must st stand up to the the world. Because I believe that unless Indla stands up to the world, no one w111 respect us. Only strength respects strength, must be strong not only as a military power but also as an economic power. Both must go hand-in-hand My good fortune vas to have worked with three great minds. Dr. Vikram Sarabhas of the Dept. of space, Professor Satish Dhawan, who succeeded him and Dr. Brahm Prakash, father of nuclear material. I was lucky to have worked with all three of then closely and consider this the great opportunity of my life. 1 see four wilestones in my career\""
   ]
  },
  {
   "cell_type": "code",
   "execution_count": 8,
   "id": "b705f1fd-54b2-4b7b-9ca6-a28538daf13d",
   "metadata": {},
   "outputs": [
    {
     "data": {
      "text/plain": [
       "[I have three visions for India.,\n",
       " In 3000 years of our history, people from all over the world have come and invaded us, captured our lands, conquered our minds.,\n",
       " From Alexander onwards, the Greeks, the Turks, the Moguls, the Portuguese, the British,the French, the Dutch, all of them came and looted us, took over what was ours.,\n",
       " Yet we have not done this to any other nation.,\n",
       " We have not conquered anyone.,\n",
       " We have not grabbed thier land,their history and tried to enforce our way of life on thes, Why?,\n",
       " Because we respect the freedom of others.,\n",
       " That is why my First vision is that of freedom.,\n",
       " I believe that India got its first vision of this in 1857, when we started the war of Independence.,\n",
       " It Is this freedom that we must protect and nurture and build on.,\n",
       " If we are not free, no one will respect us.,\n",
       " My second vision for India's development.,\n",
       " For fifty years we have been a developing nation.,\n",
       " It is tise se see surselves as a developed nation, se are among the top 5 nations of the world In tares of CDP, We have a SR percant growth rata in sost areas.,\n",
       " Our poverty levels are are falling Our achievements are being globally recognised today.,\n",
       " Yet we lack the self-confidence to see ourselves as a developed nation, self-reliant and self-assured.,\n",
       " Isn't this incorrecti I have a third vision.,\n",
       " India must st stand up to the the world.,\n",
       " Because I believe that unless Indla stands up to the world, no one w111 respect us.,\n",
       " Only strength respects strength, must be strong not only as a military power but also as an economic power.,\n",
       " Both must go hand-in-hand My good fortune vas to have worked with three great minds.,\n",
       " Dr. Vikram Sarabhas of the Dept. of space, Professor Satish Dhawan, who succeeded him and Dr. Brahm Prakash, father of nuclear material.,\n",
       " I was lucky to have worked with all three of then closely and consider this the great opportunity of my life.,\n",
       " 1 see four wilestones in my career]"
      ]
     },
     "execution_count": 8,
     "metadata": {},
     "output_type": "execute_result"
    }
   ],
   "source": [
    "nlp=spacy.load('en_core_web_sm')\n",
    "nlp.add_pipe('sentencizer')\n",
    "doc=nlp(text)\n",
    "sentences=[ i for i in doc.sents]\n",
    "sentences"
   ]
  },
  {
   "cell_type": "code",
   "execution_count": 17,
   "id": "807e18f4-f5a3-4cdf-a11b-01946578efc3",
   "metadata": {},
   "outputs": [],
   "source": [
    "tot_tokens=nltk.sent_tokenize(text)"
   ]
  },
  {
   "cell_type": "code",
   "execution_count": 49,
   "id": "b717de3c-4f59-4ee9-81b4-ee4d2df5aad9",
   "metadata": {},
   "outputs": [
    {
     "data": {
      "text/plain": [
       "['three vision india.',\n",
       " 'n 3000 year history, peopl world come invad us, captur lands, conquer minds.from alexand onwards, greeks, turks, moguls, portuguese, british,th french, dutch, came loot us, took ours.yet done nation.',\n",
       " 'e conquer anyone.w grab thier land,their histori tri enforc way life thes, why?',\n",
       " 'ecaus respect freedom others.',\n",
       " 'hat first vision freedom.',\n",
       " 'believ india got first vision 1857, start war independence.',\n",
       " 'freedom must protect nurtur build on.',\n",
       " 'f free, one respect us.',\n",
       " \"second vision india' development.\",\n",
       " 'fifti year develop nation.',\n",
       " 'tise se see surselv develop nation, se among top 5 nation world tare cdp, sr percant growth rata sost areas.',\n",
       " 'ur poverti level fall achiev global recognis today.',\n",
       " 'et lack self-confid see develop nation, self-reli self-assured.',\n",
       " \"sn't incorrecti third vision.\",\n",
       " 'ndia must st stand world.',\n",
       " 'ecaus believ unless indla stand world, one w111 respect us.',\n",
       " 'nli strength respect strength, must strong militari power also econom power.',\n",
       " 'oth must go hand-in-hand good fortun va work three great minds.',\n",
       " 'r. vikram sarabha dept.',\n",
       " 'f space, professor satish dhawan, succeed dr. brahm prakash, father nuclear material.',\n",
       " 'lucki work three close consid great opportun life.',\n",
       " '1 see four wileston career']"
      ]
     },
     "execution_count": 49,
     "metadata": {},
     "output_type": "execute_result"
    }
   ],
   "source": [
    "cleaned_data=[]\n",
    "ps=PorterStemmer()\n",
    "lemme=WordNetLemmatizer()\n",
    "for i in tot_tokens:\n",
    "    token=re.sub('^[a-zA-Z]','',i)\n",
    "    token=token.lower()\n",
    "    token=token.split()\n",
    "    token=[ps.stem(lemme.lemmatize(word)) for word in token if word not in set(stopwords.words('english'))]\n",
    "    token= ' '.join(token)\n",
    "    cleaned_data.append(token)\n",
    "cleaned_data"
   ]
  },
  {
   "cell_type": "code",
   "execution_count": 56,
   "id": "8ec3dd15-facf-4ee6-8658-a3bed176fa87",
   "metadata": {},
   "outputs": [
    {
     "data": {
      "text/plain": [
       "array([[0.        , 0.        , 0.        , ..., 0.        , 0.        ,\n",
       "        0.        ],\n",
       "       [0.        , 0.18268631, 0.        , ..., 0.13405851, 0.16116817,\n",
       "        0.18268631],\n",
       "       [0.        , 0.        , 0.        , ..., 0.        , 0.        ,\n",
       "        0.        ],\n",
       "       ...,\n",
       "       [0.        , 0.        , 0.        , ..., 0.        , 0.        ,\n",
       "        0.        ],\n",
       "       [0.        , 0.        , 0.        , ..., 0.        , 0.        ,\n",
       "        0.        ],\n",
       "       [0.        , 0.        , 0.        , ..., 0.        , 0.        ,\n",
       "        0.        ]])"
      ]
     },
     "execution_count": 56,
     "metadata": {},
     "output_type": "execute_result"
    }
   ],
   "source": [
    "vect=TfidfVectorizer()\n",
    "x=vect.fit_transform(cleaned_data)\n",
    "X=x.toarray()\n",
    "X\n"
   ]
  },
  {
   "cell_type": "code",
   "execution_count": null,
   "id": "a9251196-e73b-459d-a5f7-a9bd1566d70d",
   "metadata": {},
   "outputs": [],
   "source": []
  },
  {
   "cell_type": "code",
   "execution_count": null,
   "id": "8a5c6020-69d1-4e0c-8890-3eb0e1dd0ff1",
   "metadata": {},
   "outputs": [],
   "source": []
  }
 ],
 "metadata": {
  "kernelspec": {
   "display_name": "Python 3 (ipykernel)",
   "language": "python",
   "name": "python3"
  },
  "language_info": {
   "codemirror_mode": {
    "name": "ipython",
    "version": 3
   },
   "file_extension": ".py",
   "mimetype": "text/x-python",
   "name": "python",
   "nbconvert_exporter": "python",
   "pygments_lexer": "ipython3",
   "version": "3.11.7"
  }
 },
 "nbformat": 4,
 "nbformat_minor": 5
}
