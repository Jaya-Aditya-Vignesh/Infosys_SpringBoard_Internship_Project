{
 "cells": [
  {
   "cell_type": "markdown",
   "id": "7a53b9ef-2792-4e46-827b-43d09ca9c50a",
   "metadata": {},
   "source": [
    "# Python Practice Questions."
   ]
  },
  {
   "cell_type": "markdown",
   "id": "ee6b758c-9b2d-4c6e-a5e7-57e9be79d9bd",
   "metadata": {},
   "source": [
    "## 1. Write a python program to swap below string "
   ]
  },
  {
   "cell_type": "code",
   "execution_count": 4,
   "id": "691a93c0-e990-4835-85e6-4234db75575c",
   "metadata": {},
   "outputs": [
    {
     "name": "stdout",
     "output_type": "stream",
     "text": [
      "Kumar Ravi Patel\n"
     ]
    }
   ],
   "source": [
    "string='Ravi Kumar Patel'\n",
    "lst=string.split(' ')\n",
    "temp=lst[1]\n",
    "lst[1]=lst[0]\n",
    "lst[0]=temp\n",
    "string=' '.join(lst)\n",
    "print(string)\n"
   ]
  },
  {
   "cell_type": "markdown",
   "id": "24b6e975-2e98-45b6-87cb-5f3d715b3c25",
   "metadata": {},
   "source": [
    "## 2. Write a python program to find maximum number from the list without using sorting "
   ]
  },
  {
   "cell_type": "code",
   "execution_count": 5,
   "id": "fcb8dfeb-c759-4929-bcab-6103b3675c93",
   "metadata": {},
   "outputs": [
    {
     "data": {
      "text/plain": [
       "99"
      ]
     },
     "execution_count": 5,
     "metadata": {},
     "output_type": "execute_result"
    }
   ],
   "source": [
    "lst=[87,43 ,76,1,99,23,8]\n",
    "max(lst)"
   ]
  },
  {
   "cell_type": "markdown",
   "id": "728068d2-e777-4607-a931-888b0b998dc7",
   "metadata": {},
   "source": [
    "## 3. Write python to find the occurance of character in string"
   ]
  },
  {
   "cell_type": "code",
   "execution_count": 15,
   "id": "25997920-dcc8-4607-8c09-a4c21c93d976",
   "metadata": {},
   "outputs": [
    {
     "name": "stdout",
     "output_type": "stream",
     "text": [
      "{'g': 2, 'o': 2, 'l': 1, 'e': 1}\n"
     ]
    }
   ],
   "source": [
    "string='google'\n",
    "dict={}\n",
    "for i in string:\n",
    "    if i not in dict:\n",
    "        dict[i]=1\n",
    "    else:\n",
    "        dict[i]+=1\n",
    "print(dict)"
   ]
  },
  {
   "cell_type": "markdown",
   "id": "7859df7f-83aa-401a-82ab-22e41e4b2c8d",
   "metadata": {},
   "source": [
    "## 4. Use list comprehension to solve below problem .Find all number from 1-1000 are divided by 7 "
   ]
  },
  {
   "cell_type": "code",
   "execution_count": 16,
   "id": "e5d2a13b-53fa-4a25-9eb4-6710fd2e540d",
   "metadata": {},
   "outputs": [
    {
     "name": "stdout",
     "output_type": "stream",
     "text": [
      "[7, 14, 21, 28, 35, 42, 49, 56, 63, 70, 77, 84, 91, 98, 105, 112, 119, 126, 133, 140, 147, 154, 161, 168, 175, 182, 189, 196, 203, 210, 217, 224, 231, 238, 245, 252, 259, 266, 273, 280, 287, 294, 301, 308, 315, 322, 329, 336, 343, 350, 357, 364, 371, 378, 385, 392, 399, 406, 413, 420, 427, 434, 441, 448, 455, 462, 469, 476, 483, 490, 497, 504, 511, 518, 525, 532, 539, 546, 553, 560, 567, 574, 581, 588, 595, 602, 609, 616, 623, 630, 637, 644, 651, 658, 665, 672, 679, 686, 693, 700, 707, 714, 721, 728, 735, 742, 749, 756, 763, 770, 777, 784, 791, 798, 805, 812, 819, 826, 833, 840, 847, 854, 861, 868, 875, 882, 889, 896, 903, 910, 917, 924, 931, 938, 945, 952, 959, 966, 973, 980, 987, 994]\n"
     ]
    }
   ],
   "source": [
    "lst=[x for x in range(1,1000) if x%7==0]\n",
    "print(lst)"
   ]
  },
  {
   "cell_type": "markdown",
   "id": "f5ca9385-b9ea-44ed-ba59-42c6a4ecdb86",
   "metadata": {},
   "source": [
    "## 5. Produce a list containing word even if number is even and odd if number is odd \n"
   ]
  },
  {
   "cell_type": "code",
   "execution_count": 19,
   "id": "b8b06e26-7b12-45d9-a244-ce8ddccde7e7",
   "metadata": {},
   "outputs": [
    {
     "data": {
      "text/plain": [
       "['odd', 'even', 'even', 'even', 'odd', 'odd', 'even']"
      ]
     },
     "execution_count": 19,
     "metadata": {},
     "output_type": "execute_result"
    }
   ],
   "source": [
    "lst=[75,8,94,2,23,29,100]\n",
    "final=['even' if x%2==0 else 'odd' for x in lst]\n",
    "final"
   ]
  },
  {
   "cell_type": "markdown",
   "id": "2f9a0ac5-86db-4f26-931c-b69587e5d50f",
   "metadata": {},
   "source": [
    "## 6. Write a program to extract numbers from the string "
   ]
  },
  {
   "cell_type": "code",
   "execution_count": 21,
   "id": "8469ba71-3216-414b-8689-dd4f41460e4d",
   "metadata": {},
   "outputs": [
    {
     "name": "stdout",
     "output_type": "stream",
     "text": [
      "[1, 9, 10]\n"
     ]
    }
   ],
   "source": [
    "string='hello 1 hi 9 . How are 10'\n",
    "lst=string.split(' ')\n",
    "final=[]\n",
    "for i in lst:\n",
    "    if i.isdigit():\n",
    "        final.append(int(i))\n",
    "print(final)"
   ]
  },
  {
   "cell_type": "markdown",
   "id": "5bf1bc80-3761-4f0e-b055-b332cd5bd043",
   "metadata": {},
   "source": [
    "## 7. Write a program to find give string of email is in correct format or not."
   ]
  },
  {
   "cell_type": "code",
   "execution_count": 22,
   "id": "5fb2a696-4cf8-4a57-9980-d0a4928971e0",
   "metadata": {},
   "outputs": [
    {
     "name": "stdout",
     "output_type": "stream",
     "text": [
      "correct\n"
     ]
    }
   ],
   "source": [
    "string='xyz@gmail.com'\n",
    "if string.endswith('@gmail.com'):\n",
    "    print('correct')\n",
    "else:\n",
    "    print(\"wrong\")"
   ]
  },
  {
   "cell_type": "markdown",
   "id": "c0dc7746-70ac-4dde-ae35-5398f597a31a",
   "metadata": {},
   "source": [
    "## 8. Write program to remove all white space in from the string"
   ]
  },
  {
   "cell_type": "code",
   "execution_count": 25,
   "id": "712c83b5-86b4-42d6-a6fe-2291aecb294c",
   "metadata": {},
   "outputs": [
    {
     "name": "stdin",
     "output_type": "stream",
     "text": [
      "enter input:  Infosys  Spring  Board\n"
     ]
    },
    {
     "name": "stdout",
     "output_type": "stream",
     "text": [
      "InfosysSpringBoard\n"
     ]
    }
   ],
   "source": [
    "string=str(input(\"enter input: \"))\n",
    "print(string.replace(' ',''))"
   ]
  },
  {
   "cell_type": "markdown",
   "id": "e421a070-a0ac-4f1a-b10a-d176d939e676",
   "metadata": {},
   "source": [
    "## 9. Write a program to find sum of 1to50 numbers using list comprehension"
   ]
  },
  {
   "cell_type": "code",
   "execution_count": 33,
   "id": "87957ed7-2886-4fa1-b02a-bb2e5a832a56",
   "metadata": {},
   "outputs": [
    {
     "data": {
      "text/plain": [
       "1275"
      ]
     },
     "execution_count": 33,
     "metadata": {},
     "output_type": "execute_result"
    }
   ],
   "source": [
    "lst=[y for y in range(1,51)]\n",
    "sum(lst)"
   ]
  },
  {
   "cell_type": "markdown",
   "id": "be8f45fb-ab60-48d8-b560-f843dfa5d285",
   "metadata": {},
   "source": [
    "## 10. Write a program to check string is alpha numeric or not"
   ]
  },
  {
   "cell_type": "code",
   "execution_count": 37,
   "id": "8fafcf73-c45f-4725-8d2e-b452b2a0b15c",
   "metadata": {},
   "outputs": [
    {
     "name": "stdin",
     "output_type": "stream",
     "text": [
      "Enter input Infosys342\n"
     ]
    },
    {
     "name": "stdout",
     "output_type": "stream",
     "text": [
      "True\n"
     ]
    }
   ],
   "source": [
    "string=input('Enter input' )\n",
    "x= string.isalnum()\n",
    "print(x)"
   ]
  },
  {
   "cell_type": "code",
   "execution_count": null,
   "id": "97643bfb-a2b6-4e08-98e1-6d04a3be0f61",
   "metadata": {},
   "outputs": [],
   "source": []
  }
 ],
 "metadata": {
  "kernelspec": {
   "display_name": "Python 3 (ipykernel)",
   "language": "python",
   "name": "python3"
  },
  "language_info": {
   "codemirror_mode": {
    "name": "ipython",
    "version": 3
   },
   "file_extension": ".py",
   "mimetype": "text/x-python",
   "name": "python",
   "nbconvert_exporter": "python",
   "pygments_lexer": "ipython3",
   "version": "3.11.7"
  }
 },
 "nbformat": 4,
 "nbformat_minor": 5
}
