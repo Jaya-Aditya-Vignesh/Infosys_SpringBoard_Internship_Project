{
 "cells": [
  {
   "metadata": {},
   "cell_type": "code",
   "outputs": [],
   "execution_count": null,
   "source": "",
   "id": "945f6a3769f5f533"
  },
  {
   "cell_type": "code",
   "id": "initial_id",
   "metadata": {
    "collapsed": true,
    "ExecuteTime": {
     "end_time": "2025-01-24T13:05:59.716967Z",
     "start_time": "2025-01-24T13:04:48.373297Z"
    }
   },
   "source": [
    "from langchain_community.embeddings import HuggingFaceEmbeddings\n",
    "from langchain_community.document_loaders import UnstructuredURLLoader\n",
    "from langchain.text_splitter import RecursiveCharacterTextSplitter\n",
    "import sentence_transformers\n",
    "from pinecone import Pinecone as pc\n",
    "from langchain.vectorstores import Pinecone\n",
    "from dotenv import load_dotenv\n",
    "from langchain_pinecone import PineconeVectorStore\n",
    "import sentence_transformers\n",
    "from langchain_groq import ChatGroq\n",
    "import time\n",
    "import os"
   ],
   "outputs": [
    {
     "name": "stdout",
     "output_type": "stream",
     "text": [
      "WARNING:tensorflow:From C:\\Users\\ADITYA\\anaconda3\\Lib\\site-packages\\tf_keras\\src\\losses.py:2976: The name tf.losses.sparse_softmax_cross_entropy is deprecated. Please use tf.compat.v1.losses.sparse_softmax_cross_entropy instead.\n",
      "\n"
     ]
    }
   ],
   "execution_count": 1
  },
  {
   "metadata": {
    "ExecuteTime": {
     "end_time": "2025-01-24T13:06:18.622800Z",
     "start_time": "2025-01-24T13:06:02.534274Z"
    }
   },
   "cell_type": "code",
   "source": [
    "import nltk\n",
    "\n",
    "nltk.download('averaged_perceptron_tagger')"
   ],
   "id": "3e126532e94ecf71",
   "outputs": [
    {
     "name": "stderr",
     "output_type": "stream",
     "text": [
      "[nltk_data] Downloading package averaged_perceptron_tagger to\n",
      "[nltk_data]     C:\\Users\\ADITYA\\AppData\\Roaming\\nltk_data...\n",
      "[nltk_data]   Package averaged_perceptron_tagger is already up-to-\n",
      "[nltk_data]       date!\n"
     ]
    },
    {
     "data": {
      "text/plain": [
       "True"
      ]
     },
     "execution_count": 2,
     "metadata": {},
     "output_type": "execute_result"
    }
   ],
   "execution_count": 2
  },
  {
   "metadata": {
    "ExecuteTime": {
     "end_time": "2025-01-24T13:06:29.792807Z",
     "start_time": "2025-01-24T13:06:18.647815Z"
    }
   },
   "cell_type": "code",
   "source": [
    "urls = ['https://www.livemint.com/economy/budget-2024-key-highlights-live-updates-nirmala-sitharaman-infrastructure-defence-income-tax-modi-budget-23-july-11721654502862.html',\n",
    "        'https://cleartax.in/s/budget-2024-highlights',\n",
    "        'https://www.hindustantimes.com/budget',\n",
    "        'https://economictimes.indiatimes.com/news/economy/policy/budget-2024-highlights-india-nirmala-sitharaman-capex-fiscal-deficit-tax-slab-key-announcement-in-union-budget-2024-25/articleshow/111942707.cms?from=md']\n",
    "loader = UnstructuredURLLoader(urls=urls)\n",
    "data=loader.load()"
   ],
   "id": "c29e1d8050d4109a",
   "outputs": [],
   "execution_count": 3
  },
  {
   "metadata": {
    "ExecuteTime": {
     "end_time": "2025-01-24T13:06:29.819859Z",
     "start_time": "2025-01-24T13:06:29.812399Z"
    }
   },
   "cell_type": "code",
   "source": "",
   "id": "3d65fe0e2200b69e",
   "outputs": [],
   "execution_count": null
  },
  {
   "metadata": {
    "ExecuteTime": {
     "end_time": "2025-01-24T13:06:29.851158Z",
     "start_time": "2025-01-24T13:06:29.833776Z"
    }
   },
   "cell_type": "code",
   "source": "type(data)",
   "id": "e8f63749669b910",
   "outputs": [
    {
     "data": {
      "text/plain": [
       "list"
      ]
     },
     "execution_count": 4,
     "metadata": {},
     "output_type": "execute_result"
    }
   ],
   "execution_count": 4
  },
  {
   "metadata": {
    "ExecuteTime": {
     "end_time": "2025-01-24T13:06:29.902759Z",
     "start_time": "2025-01-24T13:06:29.880864Z"
    }
   },
   "cell_type": "code",
   "source": [
    "text_splitter = RecursiveCharacterTextSplitter(chunk_size=1000)\n",
    "docs=text_splitter.split_documents(data)"
   ],
   "id": "7431d6453c72121e",
   "outputs": [],
   "execution_count": 5
  },
  {
   "metadata": {
    "ExecuteTime": {
     "end_time": "2025-01-24T13:06:29.940594Z",
     "start_time": "2025-01-24T13:06:29.930548Z"
    }
   },
   "cell_type": "code",
   "source": "type(docs)",
   "id": "b05e07324746f8b6",
   "outputs": [
    {
     "data": {
      "text/plain": [
       "list"
      ]
     },
     "execution_count": 6,
     "metadata": {},
     "output_type": "execute_result"
    }
   ],
   "execution_count": 6
  },
  {
   "metadata": {
    "ExecuteTime": {
     "end_time": "2025-01-24T13:06:30.004779Z",
     "start_time": "2025-01-24T13:06:29.992460Z"
    }
   },
   "cell_type": "code",
   "source": "docs[7]",
   "id": "45dd259c31cf1ddf",
   "outputs": [
    {
     "data": {
      "text/plain": [
       "Document(metadata={'source': 'https://www.livemint.com/economy/budget-2024-key-highlights-live-updates-nirmala-sitharaman-infrastructure-defence-income-tax-modi-budget-23-july-11721654502862.html'}, page_content='This initiative, alongside the comprehensive development plans for Rajgir and Nalanda and the support for Odisha’s diverse attractions, reflects a visionary approach to tourism. Promoting these regions will not only enhance India\\'s cultural heritage but also drive substantial economic growth. The expected increase in tourism will create numerous jobs and stimulate growth in the hospitality, infrastructure, technology, and local craft sectors.\\n\\nThis holistic strategy positions India as a leading global destination, highlighting its rich cultural legacy while promoting sustainable economic development.\"\\n\\n24 Jul 2024, 09:45:48 PM IST\\n\\nBudget 2024 Key Highlights Live Updates: Rohan Bhargava, Co-Founder of CashKaro, said')"
      ]
     },
     "execution_count": 7,
     "metadata": {},
     "output_type": "execute_result"
    }
   ],
   "execution_count": 7
  },
  {
   "metadata": {
    "ExecuteTime": {
     "end_time": "2025-01-24T13:06:35.543543Z",
     "start_time": "2025-01-24T13:06:30.039811Z"
    }
   },
   "cell_type": "code",
   "source": [
    "embeddings=HuggingFaceEmbeddings()\n",
    "vector=embeddings.embed_query('Hello world')\n",
    "vector[:5]"
   ],
   "id": "1af403bd0ebfcb94",
   "outputs": [
    {
     "name": "stderr",
     "output_type": "stream",
     "text": [
      "C:\\Users\\ADITYA\\AppData\\Local\\Temp\\ipykernel_8320\\1528021442.py:1: LangChainDeprecationWarning: The class `HuggingFaceEmbeddings` was deprecated in LangChain 0.2.2 and will be removed in 1.0. An updated version of the class exists in the :class:`~langchain-huggingface package and should be used instead. To use it run `pip install -U :class:`~langchain-huggingface` and import as `from :class:`~langchain_huggingface import HuggingFaceEmbeddings``.\n",
      "  embeddings=HuggingFaceEmbeddings()\n",
      "C:\\Users\\ADITYA\\AppData\\Local\\Temp\\ipykernel_8320\\1528021442.py:1: LangChainDeprecationWarning: Default values for HuggingFaceEmbeddings.model_name were deprecated in LangChain 0.2.16 and will be removed in 0.4.0. Explicitly pass a model_name to the HuggingFaceEmbeddings constructor instead.\n",
      "  embeddings=HuggingFaceEmbeddings()\n"
     ]
    },
    {
     "data": {
      "text/plain": [
       "[0.026249654591083527,\n",
       " 0.013395577669143677,\n",
       " -0.004533144645392895,\n",
       " -0.021791456267237663,\n",
       " 0.05455189198255539]"
      ]
     },
     "execution_count": 8,
     "metadata": {},
     "output_type": "execute_result"
    }
   ],
   "execution_count": 8
  },
  {
   "metadata": {
    "ExecuteTime": {
     "end_time": "2025-01-24T13:06:35.589537Z",
     "start_time": "2025-01-24T13:06:35.578315Z"
    }
   },
   "cell_type": "code",
   "source": "len(vector)",
   "id": "c73e6f9231bd77d4",
   "outputs": [
    {
     "data": {
      "text/plain": [
       "768"
      ]
     },
     "execution_count": 9,
     "metadata": {},
     "output_type": "execute_result"
    }
   ],
   "execution_count": 9
  },
  {
   "metadata": {
    "ExecuteTime": {
     "end_time": "2025-01-24T13:07:35.771829Z",
     "start_time": "2025-01-24T13:07:32.749060Z"
    }
   },
   "cell_type": "code",
   "source": [
    "PINECONE_INDEX_NAME='url'\n",
    "os.environ['PINECONE_API_KEY']=('pcsk_6yjLVo_3pw6MjXiZx4VEcg6UycLcaHQHQod4BaHCb7pZnJrjxZdzUmNAiuWF6pqu9bJnA7')\n",
    "docsearch=Pinecone.from_existing_index(index_name=PINECONE_INDEX_NAME,embedding=embeddings)\n",
    "print(\"Index successfully created\")"
   ],
   "id": "5ad3e0d840f88b6f",
   "outputs": [
    {
     "name": "stdout",
     "output_type": "stream",
     "text": [
      "Index successfully created\n"
     ]
    }
   ],
   "execution_count": 11
  },
  {
   "metadata": {
    "ExecuteTime": {
     "end_time": "2025-01-24T13:08:37.615294Z",
     "start_time": "2025-01-24T13:07:35.813689Z"
    }
   },
   "cell_type": "code",
   "source": "vectorstore_from_docs=PineconeVectorStore.from_documents(docs,index_name=PINECONE_INDEX_NAME,embedding=embeddings)",
   "id": "b9d0b4cfba300158",
   "outputs": [],
   "execution_count": 12
  },
  {
   "metadata": {
    "ExecuteTime": {
     "end_time": "2025-01-24T13:08:39.259938Z",
     "start_time": "2025-01-24T13:08:37.632362Z"
    }
   },
   "cell_type": "code",
   "source": "docsearch=PineconeVectorStore.from_existing_index(PINECONE_INDEX_NAME,embeddings)",
   "id": "b7fc3b686a48bf91",
   "outputs": [],
   "execution_count": 13
  },
  {
   "metadata": {
    "ExecuteTime": {
     "end_time": "2025-01-24T13:08:41.301046Z",
     "start_time": "2025-01-24T13:08:39.278227Z"
    }
   },
   "cell_type": "code",
   "source": [
    "query= \"what is budget\"\n",
    "docs=docsearch.similarity_search(query,k=3)\n",
    "print(docs)"
   ],
   "id": "c306d840eda1508a",
   "outputs": [
    {
     "name": "stdout",
     "output_type": "stream",
     "text": [
      "[]\n"
     ]
    }
   ],
   "execution_count": 14
  },
  {
   "metadata": {
    "ExecuteTime": {
     "end_time": "2025-01-24T13:08:41.918136Z",
     "start_time": "2025-01-24T13:08:41.445399Z"
    }
   },
   "cell_type": "code",
   "source": [
    "retriever=docsearch.as_retriever(search_type='similarity',search_kwargs={'k':10})\n",
    "retrieved_docs=retriever.invoke(\"What is union budget?\")\n",
    "retrieved_docs"
   ],
   "id": "13c78003dc05ee85",
   "outputs": [
    {
     "data": {
      "text/plain": [
       "[]"
      ]
     },
     "execution_count": 15,
     "metadata": {},
     "output_type": "execute_result"
    }
   ],
   "execution_count": 15
  },
  {
   "metadata": {
    "ExecuteTime": {
     "end_time": "2025-01-24T13:08:45.077785Z",
     "start_time": "2025-01-24T13:08:42.004969Z"
    }
   },
   "cell_type": "code",
   "source": [
    "GROQ_API=\"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\"\n",
    "llm=ChatGroq(model_name=\"llama-3.2-1b-preview\",api_key=GROQ_API)"
   ],
   "id": "df8b0330372a2873",
   "outputs": [],
   "execution_count": 16
  },
  {
   "metadata": {
    "ExecuteTime": {
     "end_time": "2025-01-24T13:08:45.317522Z",
     "start_time": "2025-01-24T13:08:45.087806Z"
    }
   },
   "cell_type": "code",
   "source": [
    "from langchain.chains import create_retrieval_chain\n",
    "from langchain.chains.combine_documents import create_stuff_documents_chain\n",
    "from langchain_core.prompts import ChatPromptTemplate\n",
    "\n",
    "system_prompt=(\n",
    "    \"You are an assistant for question-answering tasks Use the following pieces of retrieved context to answer The question. If You dont know the answer ,say that you dont know. Use three sentences maximum and keep the answer concise.\"\n",
    "    \"\\n\\n\"\n",
    "    \"{context}\"\n",
    ")\n",
    "prompt=ChatPromptTemplate.from_messages([(\"system\",system_prompt),(\"human\",\"{input}\"),])"
   ],
   "id": "2da5648556d55e7e",
   "outputs": [],
   "execution_count": 17
  },
  {
   "metadata": {
    "ExecuteTime": {
     "end_time": "2025-01-24T13:08:45.388520Z",
     "start_time": "2025-01-24T13:08:45.358217Z"
    }
   },
   "cell_type": "code",
   "source": [
    "question_answer_chain = create_stuff_documents_chain(llm,prompt)\n",
    "rag_chain=create_retrieval_chain(retriever,question_answer_chain)"
   ],
   "id": "c9b3c9277467d65b",
   "outputs": [],
   "execution_count": 18
  },
  {
   "metadata": {
    "ExecuteTime": {
     "end_time": "2025-01-24T13:08:46.453270Z",
     "start_time": "2025-01-24T13:08:45.450413Z"
    }
   },
   "cell_type": "code",
   "source": [
    "response=rag_chain.invoke({\"input\":\"Whats the budget for current year? \"})\n",
    "print(response[\"answer\"])"
   ],
   "id": "b7792ec91453a1b1",
   "outputs": [
    {
     "name": "stdout",
     "output_type": "stream",
     "text": [
      "I don't have access to real-time financial information or the most current data. However, I can suggest some reputable sources where you can find the latest budget information for your country or organization, such as the official government website or the website of the relevant financial institution.\n"
     ]
    }
   ],
   "execution_count": 19
  },
  {
   "metadata": {
    "ExecuteTime": {
     "end_time": "2025-01-24T13:08:47.449052Z",
     "start_time": "2025-01-24T13:08:46.592426Z"
    }
   },
   "cell_type": "code",
   "source": [
    "response=rag_chain.invoke({\"input\":\"Whats the budget for year 2050? \"})\n",
    "print(response[\"answer\"])"
   ],
   "id": "6c619fe0d36238b9",
   "outputs": [
    {
     "name": "stdout",
     "output_type": "stream",
     "text": [
      "There is no definitive budget for year 2050 as it's still 30 years away. However, the United Nations and various international organizations have set targets and projections for the future growth of global economies and budgets. For instance, the UN's Sustainable Development Goals, including Goal 16 on International Cooperation in Development, aim to increase global development co-operation by 2020 and enhance its effectiveness by 2030.\n"
     ]
    }
   ],
   "execution_count": 20
  },
  {
   "metadata": {
    "ExecuteTime": {
     "end_time": "2025-01-24T13:03:59.766172100Z",
     "start_time": "2025-01-22T13:18:22.579328Z"
    }
   },
   "cell_type": "code",
   "source": [
    "\"\"\"pine=pc(api_key=os.environ.get(\"PINECONE_API_KEY\"))\n",
    "index_name='url'\n",
    "if index_name not in pine.list_indexes().names():\n",
    "    pine.create_index(\n",
    "        name=index_name,\n",
    "        dimension=embeddings.dimension,\n",
    "        metric=\"cosine\",\n",
    "    )\n",
    "    # Wait for index to be ready\n",
    "    while not pine.describe_index(index_name).status['ready']:\n",
    "        time.sleep(1)\n",
    "\n",
    "# See that it is empty\n",
    "print(\"Index before upsert:\")\n",
    "print(pine.Index(index_name).describe_index_stats())\n",
    "print(\"\\n\")\"\"\""
   ],
   "id": "e282953bd1501da5",
   "outputs": [
    {
     "name": "stdout",
     "output_type": "stream",
     "text": [
      "Index before upsert:\n",
      "{'dimension': 768,\n",
      " 'index_fullness': 0.0,\n",
      " 'namespaces': {'': {'vector_count': 689}},\n",
      " 'total_vector_count': 689}\n",
      "\n",
      "\n"
     ]
    }
   ],
   "execution_count": 25
  },
  {
   "metadata": {
    "ExecuteTime": {
     "end_time": "2025-01-24T13:23:58.338806Z",
     "start_time": "2025-01-24T13:23:58.259172Z"
    }
   },
   "cell_type": "code",
   "source": [
    "import pinecone\n",
    "# Initialize Pinecone with your API key\n",
    "pinecone.init(api_key=os.environ.get(\"PINECONE_API_KEY\"))  # No environment specified\n",
    "\n",
    "# Access the index by name\n",
    "index = pinecone.index(\"url\")  # Replace with your actual index name\n",
    "\n",
    "# Example: Delete all entries in the index\n",
    "index.delete(delete_all=True)"
   ],
   "id": "64c0d07ca2c4c494",
   "outputs": [
    {
     "ename": "AttributeError",
     "evalue": "init is no longer a top-level attribute of the pinecone package.\n\nPlease create an instance of the Pinecone class instead.\n\nExample:\n\n    import os\n    from pinecone import Pinecone, ServerlessSpec\n\n    pc = Pinecone(\n        api_key=os.environ.get(\"PINECONE_API_KEY\")\n    )\n\n    # Now do stuff\n    if 'my_index' not in pc.list_indexes().names():\n        pc.create_index(\n            name='my_index', \n            dimension=1536, \n            metric='euclidean',\n            spec=ServerlessSpec(\n                cloud='aws',\n                region='us-west-2'\n            )\n        )\n\n",
     "output_type": "error",
     "traceback": [
      "\u001B[1;31m---------------------------------------------------------------------------\u001B[0m",
      "\u001B[1;31mAttributeError\u001B[0m                            Traceback (most recent call last)",
      "Cell \u001B[1;32mIn[28], line 3\u001B[0m\n\u001B[0;32m      1\u001B[0m \u001B[38;5;28;01mimport\u001B[39;00m \u001B[38;5;21;01mpinecone\u001B[39;00m\n\u001B[0;32m      2\u001B[0m \u001B[38;5;66;03m# Initialize Pinecone with your API key\u001B[39;00m\n\u001B[1;32m----> 3\u001B[0m pinecone\u001B[38;5;241m.\u001B[39minit(api_key\u001B[38;5;241m=\u001B[39mos\u001B[38;5;241m.\u001B[39menviron\u001B[38;5;241m.\u001B[39mget(\u001B[38;5;124m\"\u001B[39m\u001B[38;5;124mPINECONE_API_KEY\u001B[39m\u001B[38;5;124m\"\u001B[39m))  \u001B[38;5;66;03m# No environment specified\u001B[39;00m\n\u001B[0;32m      5\u001B[0m \u001B[38;5;66;03m# Access the index by name\u001B[39;00m\n\u001B[0;32m      6\u001B[0m index \u001B[38;5;241m=\u001B[39m pinecone\u001B[38;5;241m.\u001B[39mindex(\u001B[38;5;124m\"\u001B[39m\u001B[38;5;124murl\u001B[39m\u001B[38;5;124m\"\u001B[39m)  \u001B[38;5;66;03m# Replace with your actual index name\u001B[39;00m\n",
      "File \u001B[1;32m~\\anaconda3\\Lib\\site-packages\\pinecone\\deprecation_warnings.py:39\u001B[0m, in \u001B[0;36minit\u001B[1;34m(*args, **kwargs)\u001B[0m\n\u001B[0;32m     12\u001B[0m     example \u001B[38;5;241m=\u001B[39m \u001B[38;5;124m\"\"\"\u001B[39m\n\u001B[0;32m     13\u001B[0m \u001B[38;5;124m    import os\u001B[39m\n\u001B[0;32m     14\u001B[0m \u001B[38;5;124m    from pinecone import Pinecone, ServerlessSpec\u001B[39m\n\u001B[1;32m   (...)\u001B[0m\n\u001B[0;32m     30\u001B[0m \u001B[38;5;124m        )\u001B[39m\n\u001B[0;32m     31\u001B[0m \u001B[38;5;124m\"\"\"\u001B[39m\n\u001B[0;32m     32\u001B[0m     msg \u001B[38;5;241m=\u001B[39m \u001B[38;5;124mf\u001B[39m\u001B[38;5;124m\"\"\"\u001B[39m\u001B[38;5;124minit is no longer a top-level attribute of the pinecone package.\u001B[39m\n\u001B[0;32m     33\u001B[0m \n\u001B[0;32m     34\u001B[0m \u001B[38;5;124mPlease create an instance of the Pinecone class instead.\u001B[39m\n\u001B[1;32m   (...)\u001B[0m\n\u001B[0;32m     37\u001B[0m \u001B[38;5;132;01m{\u001B[39;00mexample\u001B[38;5;132;01m}\u001B[39;00m\n\u001B[0;32m     38\u001B[0m \u001B[38;5;124m\"\"\"\u001B[39m\n\u001B[1;32m---> 39\u001B[0m     \u001B[38;5;28;01mraise\u001B[39;00m \u001B[38;5;167;01mAttributeError\u001B[39;00m(msg)\n",
      "\u001B[1;31mAttributeError\u001B[0m: init is no longer a top-level attribute of the pinecone package.\n\nPlease create an instance of the Pinecone class instead.\n\nExample:\n\n    import os\n    from pinecone import Pinecone, ServerlessSpec\n\n    pc = Pinecone(\n        api_key=os.environ.get(\"PINECONE_API_KEY\")\n    )\n\n    # Now do stuff\n    if 'my_index' not in pc.list_indexes().names():\n        pc.create_index(\n            name='my_index', \n            dimension=1536, \n            metric='euclidean',\n            spec=ServerlessSpec(\n                cloud='aws',\n                region='us-west-2'\n            )\n        )\n\n"
     ]
    }
   ],
   "execution_count": 28
  },
  {
   "metadata": {},
   "cell_type": "code",
   "outputs": [],
   "execution_count": null,
   "source": "",
   "id": "d05fcb35d418ebd6"
  }
 ],
 "metadata": {
  "kernelspec": {
   "display_name": "Python 3",
   "language": "python",
   "name": "python3"
  },
  "language_info": {
   "codemirror_mode": {
    "name": "ipython",
    "version": 2
   },
   "file_extension": ".py",
   "mimetype": "text/x-python",
   "name": "python",
   "nbconvert_exporter": "python",
   "pygments_lexer": "ipython2",
   "version": "2.7.6"
  }
 },
 "nbformat": 4,
 "nbformat_minor": 5
}
