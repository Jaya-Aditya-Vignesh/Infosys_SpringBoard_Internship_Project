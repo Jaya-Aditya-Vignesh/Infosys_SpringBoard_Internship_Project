{
 "cells": [
  {
   "cell_type": "code",
   "id": "initial_id",
   "metadata": {
    "collapsed": true,
    "ExecuteTime": {
     "end_time": "2025-01-07T12:41:54.064011Z",
     "start_time": "2025-01-07T12:41:49.624775Z"
    }
   },
   "source": [
    "import getpass\n",
    "import os\n",
    "from dotenv import load_dotenv\n",
    "from langchain_google_genai import ChatGoogleGenerativeAI\n",
    "from langchain_core.prompts import ChatPromptTemplate\n",
    "from langchain_ollama import ChatOllama\n",
    "\n"
   ],
   "outputs": [],
   "execution_count": 2
  },
  {
   "metadata": {},
   "cell_type": "code",
   "outputs": [],
   "execution_count": null,
   "source": "",
   "id": "60e7985d39619f0c"
  },
  {
   "metadata": {
    "ExecuteTime": {
     "end_time": "2025-01-07T13:07:22.136994Z",
     "start_time": "2025-01-07T13:07:22.129730Z"
    }
   },
   "cell_type": "code",
   "source": [
    "load_dotenv()\n",
    "api_key = os.getenv(\"GOOGLE_API_KEY\")\n"
   ],
   "id": "3b0eaf3675aa20f4",
   "outputs": [],
   "execution_count": 13
  },
  {
   "metadata": {
    "ExecuteTime": {
     "end_time": "2025-01-07T13:07:23.010539Z",
     "start_time": "2025-01-07T13:07:22.923233Z"
    }
   },
   "cell_type": "code",
   "source": [
    "llm = ChatGoogleGenerativeAI(\n",
    "    model=\"gemini-1.5-pro\",\n",
    "    temperature=0,\n",
    "    timeout=None,\n",
    "    max_retries=2,api_key=api_key)"
   ],
   "id": "bd971cb8234a1c53",
   "outputs": [],
   "execution_count": 14
  },
  {
   "metadata": {
    "ExecuteTime": {
     "end_time": "2025-01-07T13:07:27.574421Z",
     "start_time": "2025-01-07T13:07:23.889424Z"
    }
   },
   "cell_type": "code",
   "source": [
    "\n",
    "\n",
    "prompt = ChatPromptTemplate.from_template(\n",
    "            \"\"\"You are a helpful assistant that translates {input_language} to {output_language}. and translate this sentence :{input}\"\"\"\n",
    ")\n",
    "input_lag=str(input(\"enter the language\"))\n",
    "output_lag=str(input(\"enter the language:\"))\n",
    "sentence=str(input(\"enter the sentence:\"))\n",
    "chain = prompt | llm\n",
    "print(\"input Language is {}\\noutput Language is {}\\nSentence to be translated is : {}\".format(input_lag,output_lag,sentence))\n",
    "response=chain.invoke(\n",
    "    {\n",
    "        \"input_language\": input_lag,\n",
    "        \"output_language\": output_lag,\n",
    "        \"input\": sentence,\n",
    "    }\n",
    ")\n",
    "print(\"\\nTranslated Sentence is :\",response.content)"
   ],
   "id": "335f2bf3ef040544",
   "outputs": [
    {
     "ename": "KeyboardInterrupt",
     "evalue": "Interrupted by user",
     "output_type": "error",
     "traceback": [
      "\u001B[1;31m---------------------------------------------------------------------------\u001B[0m",
      "\u001B[1;31mKeyboardInterrupt\u001B[0m                         Traceback (most recent call last)",
      "Cell \u001B[1;32mIn[15], line 4\u001B[0m\n\u001B[0;32m      1\u001B[0m prompt \u001B[38;5;241m=\u001B[39m ChatPromptTemplate\u001B[38;5;241m.\u001B[39mfrom_template(\n\u001B[0;32m      2\u001B[0m \u001B[38;5;250m            \u001B[39m\u001B[38;5;124;03m\"\"\"You are a helpful assistant that translates {input_language} to {output_language}. and translate this sentence :{input}\"\"\"\u001B[39;00m\n\u001B[0;32m      3\u001B[0m )\n\u001B[1;32m----> 4\u001B[0m input_lag\u001B[38;5;241m=\u001B[39m\u001B[38;5;28mstr\u001B[39m(\u001B[38;5;28minput\u001B[39m(\u001B[38;5;124m\"\u001B[39m\u001B[38;5;124menter the language\u001B[39m\u001B[38;5;124m\"\u001B[39m))\n\u001B[0;32m      5\u001B[0m output_lag\u001B[38;5;241m=\u001B[39m\u001B[38;5;28mstr\u001B[39m(\u001B[38;5;28minput\u001B[39m(\u001B[38;5;124m\"\u001B[39m\u001B[38;5;124menter the language:\u001B[39m\u001B[38;5;124m\"\u001B[39m))\n\u001B[0;32m      6\u001B[0m sentence\u001B[38;5;241m=\u001B[39m\u001B[38;5;28mstr\u001B[39m(\u001B[38;5;28minput\u001B[39m(\u001B[38;5;124m\"\u001B[39m\u001B[38;5;124menter the sentence:\u001B[39m\u001B[38;5;124m\"\u001B[39m))\n",
      "File \u001B[1;32m~\\anaconda3\\Lib\\site-packages\\ipykernel\\kernelbase.py:1262\u001B[0m, in \u001B[0;36mKernel.raw_input\u001B[1;34m(self, prompt)\u001B[0m\n\u001B[0;32m   1260\u001B[0m     msg \u001B[38;5;241m=\u001B[39m \u001B[38;5;124m\"\u001B[39m\u001B[38;5;124mraw_input was called, but this frontend does not support input requests.\u001B[39m\u001B[38;5;124m\"\u001B[39m\n\u001B[0;32m   1261\u001B[0m     \u001B[38;5;28;01mraise\u001B[39;00m StdinNotImplementedError(msg)\n\u001B[1;32m-> 1262\u001B[0m \u001B[38;5;28;01mreturn\u001B[39;00m \u001B[38;5;28mself\u001B[39m\u001B[38;5;241m.\u001B[39m_input_request(\n\u001B[0;32m   1263\u001B[0m     \u001B[38;5;28mstr\u001B[39m(prompt),\n\u001B[0;32m   1264\u001B[0m     \u001B[38;5;28mself\u001B[39m\u001B[38;5;241m.\u001B[39m_parent_ident[\u001B[38;5;124m\"\u001B[39m\u001B[38;5;124mshell\u001B[39m\u001B[38;5;124m\"\u001B[39m],\n\u001B[0;32m   1265\u001B[0m     \u001B[38;5;28mself\u001B[39m\u001B[38;5;241m.\u001B[39mget_parent(\u001B[38;5;124m\"\u001B[39m\u001B[38;5;124mshell\u001B[39m\u001B[38;5;124m\"\u001B[39m),\n\u001B[0;32m   1266\u001B[0m     password\u001B[38;5;241m=\u001B[39m\u001B[38;5;28;01mFalse\u001B[39;00m,\n\u001B[0;32m   1267\u001B[0m )\n",
      "File \u001B[1;32m~\\anaconda3\\Lib\\site-packages\\ipykernel\\kernelbase.py:1305\u001B[0m, in \u001B[0;36mKernel._input_request\u001B[1;34m(self, prompt, ident, parent, password)\u001B[0m\n\u001B[0;32m   1302\u001B[0m \u001B[38;5;28;01mexcept\u001B[39;00m \u001B[38;5;167;01mKeyboardInterrupt\u001B[39;00m:\n\u001B[0;32m   1303\u001B[0m     \u001B[38;5;66;03m# re-raise KeyboardInterrupt, to truncate traceback\u001B[39;00m\n\u001B[0;32m   1304\u001B[0m     msg \u001B[38;5;241m=\u001B[39m \u001B[38;5;124m\"\u001B[39m\u001B[38;5;124mInterrupted by user\u001B[39m\u001B[38;5;124m\"\u001B[39m\n\u001B[1;32m-> 1305\u001B[0m     \u001B[38;5;28;01mraise\u001B[39;00m \u001B[38;5;167;01mKeyboardInterrupt\u001B[39;00m(msg) \u001B[38;5;28;01mfrom\u001B[39;00m \u001B[38;5;28;01mNone\u001B[39;00m\n\u001B[0;32m   1306\u001B[0m \u001B[38;5;28;01mexcept\u001B[39;00m \u001B[38;5;167;01mException\u001B[39;00m:\n\u001B[0;32m   1307\u001B[0m     \u001B[38;5;28mself\u001B[39m\u001B[38;5;241m.\u001B[39mlog\u001B[38;5;241m.\u001B[39mwarning(\u001B[38;5;124m\"\u001B[39m\u001B[38;5;124mInvalid Message:\u001B[39m\u001B[38;5;124m\"\u001B[39m, exc_info\u001B[38;5;241m=\u001B[39m\u001B[38;5;28;01mTrue\u001B[39;00m)\n",
      "\u001B[1;31mKeyboardInterrupt\u001B[0m: Interrupted by user"
     ]
    }
   ],
   "execution_count": 15
  },
  {
   "metadata": {
    "ExecuteTime": {
     "end_time": "2025-01-07T13:13:27.155489Z",
     "start_time": "2025-01-07T13:13:26.243342Z"
    }
   },
   "cell_type": "code",
   "source": "llm1=ChatOllama(temperature=0,model=\"llama3.2\",)",
   "id": "1f3a9de70557ed27",
   "outputs": [],
   "execution_count": 19
  },
  {
   "metadata": {
    "ExecuteTime": {
     "end_time": "2025-01-07T13:14:30.856034Z",
     "start_time": "2025-01-07T13:13:27.175251Z"
    }
   },
   "cell_type": "code",
   "source": [
    "prompt=ChatPromptTemplate.from_template(\"\"\" You are A Professional Coding Bot, Give me the python code for {code}\"\"\")\n",
    "chain1=prompt | llm1\n",
    "response=chain1.invoke({\n",
    "    'code': \"GIve me the code to multipy to numbers\",\n",
    "    \n",
    "})\n",
    "print(\"\\nTranslated Sentence is :\",response.content)"
   ],
   "id": "bb9ea7ad7c8a2543",
   "outputs": [
    {
     "name": "stdout",
     "output_type": "stream",
     "text": [
      "\n",
      "Translated Sentence is : **Multiplication Function in Python**\n",
      "=====================================\n",
      "\n",
      "Here is a simple function that multiplies two numbers together:\n",
      "\n",
      "```python\n",
      "def multiply(num1, num2):\n",
      "    \"\"\"\n",
      "    Returns the product of two numbers.\n",
      "\n",
      "    Args:\n",
      "        num1 (float): The first number.\n",
      "        num2 (float): The second number.\n",
      "\n",
      "    Returns:\n",
      "        float: The product of num1 and num2.\n",
      "    \"\"\"\n",
      "    return num1 * num2\n",
      "```\n",
      "\n",
      "**Example Usage**\n",
      "-----------------\n",
      "\n",
      "```python\n",
      "# Multiply 5 and 7\n",
      "result = multiply(5, 7)\n",
      "print(result)  # Output: 35\n",
      "\n",
      "# Multiply -3 and 4\n",
      "result = multiply(-3, 4)\n",
      "print(result)  # Output: -12\n",
      "```\n",
      "\n",
      "**Alternative Implementation using Recursion**\n",
      "---------------------------------------------\n",
      "\n",
      "If you want to implement the multiplication function recursively, here is an example:\n",
      "\n",
      "```python\n",
      "def multiply_recursive(num1, num2):\n",
      "    \"\"\"\n",
      "    Returns the product of two numbers using recursion.\n",
      "\n",
      "    Args:\n",
      "        num1 (float): The first number.\n",
      "        num2 (float): The second number.\n",
      "\n",
      "    Returns:\n",
      "        float: The product of num1 and num2.\n",
      "    \"\"\"\n",
      "    if num2 == 0:\n",
      "        return 0\n",
      "    elif num2 < 0:\n",
      "        return -multiply_recursive(num1, -num2)\n",
      "    else:\n",
      "        return num1 + multiply_recursive(num1, num2 - 1)\n",
      "```\n",
      "\n",
      "**Example Usage**\n",
      "-----------------\n",
      "\n",
      "```python\n",
      "# Multiply 5 and 7 using recursion\n",
      "result = multiply_recursive(5, 7)\n",
      "print(result)  # Output: 35\n",
      "\n",
      "# Multiply -3 and 4 using recursion\n",
      "result = multiply_recursive(-3, 4)\n",
      "print(result)  # Output: -12\n",
      "```\n",
      "\n",
      "Note that the recursive implementation has a time complexity of O(n), where n is the absolute value of num2. This can be inefficient for large values of num2. The iterative implementation has a time complexity of O(1), making it more efficient for large inputs.\n"
     ]
    }
   ],
   "execution_count": 20
  },
  {
   "metadata": {},
   "cell_type": "code",
   "outputs": [],
   "execution_count": null,
   "source": "",
   "id": "7609646bf94289cd"
  }
 ],
 "metadata": {
  "kernelspec": {
   "display_name": "Python 3",
   "language": "python",
   "name": "python3"
  },
  "language_info": {
   "codemirror_mode": {
    "name": "ipython",
    "version": 2
   },
   "file_extension": ".py",
   "mimetype": "text/x-python",
   "name": "python",
   "nbconvert_exporter": "python",
   "pygments_lexer": "ipython2",
   "version": "2.7.6"
  }
 },
 "nbformat": 4,
 "nbformat_minor": 5
}
